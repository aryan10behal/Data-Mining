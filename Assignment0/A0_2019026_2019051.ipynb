{
  "nbformat": 4,
  "nbformat_minor": 0,
  "metadata": {
    "colab": {
      "name": "A0_2019026_2019051.ipynb",
      "provenance": [],
      "toc_visible": true
    },
    "kernelspec": {
      "name": "python3",
      "display_name": "Python 3"
    },
    "language_info": {
      "name": "python"
    }
  },
  "cells": [
    {
      "cell_type": "markdown",
      "metadata": {
        "id": "DkNRg64HSlKp"
      },
      "source": [
        "1. Preprocessing is not done\n",
        "2. Recovery Rate = Number of Recovered cases/Number of Confirmed cases\n",
        "3. Assumed that there are no data inconsistencies"
      ]
    },
    {
      "cell_type": "code",
      "metadata": {
        "id": "kde1e2XvMzc0"
      },
      "source": [
        "# Importing required libraries\n",
        "import numpy as np\n",
        "import csv\n",
        "import pandas as pd\n",
        "import matplotlib.pyplot as plt\n",
        "import json\n",
        "import operator\n",
        "from urllib.request import urlopen\n",
        "from datetime import datetime\n",
        "from datetime import timedelta"
      ],
      "execution_count": 2,
      "outputs": []
    },
    {
      "cell_type": "markdown",
      "metadata": {
        "id": "ngfcgExqNa51"
      },
      "source": [
        "Converting json into csv"
      ]
    },
    {
      "cell_type": "code",
      "metadata": {
        "id": "-byMgvf1NZpr"
      },
      "source": [
        "# Opening JSON file and loading the data\n",
        "# into the variable data\n",
        "\n",
        "url = \"https://data.covid19india.org/states_daily.json\"\n",
        "  \n",
        "# store the response of URL\n",
        "response = urlopen(url)\n",
        "  \n",
        "# storing the JSON response \n",
        "# from url in data\n",
        "data = json.loads(response.read())\n",
        "\n",
        "employee_data = data['states_daily']\n",
        "\n",
        "# now we will open a file for writing\n",
        "data_file = open('data_file.csv', 'w')\n",
        "\n",
        "# create the csv writer object\n",
        "csv_writer = csv.writer(data_file)\n",
        "\n",
        "# Counter variable used for writing\n",
        "# headers to the CSV file\n",
        "count = 0\n",
        "\n",
        "for emp in employee_data:\n",
        "\tif count == 0:\n",
        "\n",
        "\t\t# Writing headers of CSV file\n",
        "\t\theader = emp.keys()\n",
        "\t\tcsv_writer.writerow(header)\n",
        "\t\tcount += 1\n",
        "\n",
        "\t# Writing data of CSV file\n",
        "\tcsv_writer.writerow(emp.values())\n",
        "\n",
        "data_file.close()"
      ],
      "execution_count": 3,
      "outputs": []
    },
    {
      "cell_type": "markdown",
      "metadata": {
        "id": "IXChUlwYM2Wf"
      },
      "source": [
        "# 1.1"
      ]
    },
    {
      "cell_type": "code",
      "metadata": {
        "id": "yvchcA2rNCqE"
      },
      "source": [
        "url = \"https://data.covid19india.org/states_daily.json\"\n",
        "  \n",
        "# store the response of URL\n",
        "response = urlopen(url)\n",
        "  \n",
        "# storing the JSON response \n",
        "# from url in data\n",
        "data_json = json.loads(response.read())\n",
        "\n",
        "list_ = data_json['states_daily']\n",
        "\n",
        "numConfirmed = 0\n",
        "numDeceased = 0\n",
        "numRecovered = 0\n",
        "\n",
        "stateCode_state = {'nl':'Nagaland','mz':'Mizoram'}\n",
        "\n",
        "delhi_confirmed = 0\n",
        "delhi_recovered = 0\n",
        "maharashtra = 0\n",
        "westBengal = 0\n",
        "tamilNadu = 0\n",
        "\n",
        "upDate = datetime(2021,8,16)\n",
        "downDate = datetime(2021,3,14)\n",
        "\n",
        "for i in range(len(list_)):\n",
        "  dict = list_[i]\n",
        "  date_str = dict['dateymd']\n",
        "  num = 0\n",
        "  my_date = datetime.strptime(date_str, \"%Y-%m-%d\")\n",
        "  # if my_date>downDate and my_date<upDate:\n",
        "  for key in dict:\n",
        "    if key!='date' and key!='dateymd' and key!='status':\n",
        "      num = num+int(dict[key])\n",
        "      if dict['status']=='Confirmed':\n",
        "        numConfirmed = numConfirmed+num\n",
        "      elif dict['status']=='Recovered':\n",
        "        numRecovered = numRecovered+num\n",
        "      else:\n",
        "        numDeceased = numDeceased+num\n",
        "\n",
        "print(\"Confirmed: \", numConfirmed)\n",
        "print(\"Recovered: \", numRecovered)\n",
        "print(\"Deceased: \", numDeceased)"
      ],
      "execution_count": null,
      "outputs": []
    },
    {
      "cell_type": "markdown",
      "metadata": {
        "id": "m-35_KuyNFA0"
      },
      "source": [
        "# 1.2"
      ]
    },
    {
      "cell_type": "code",
      "metadata": {
        "id": "tNTle2dkNjSB"
      },
      "source": [
        "def Q1_2(state, state_name):\n",
        "  df = pd.read_csv(\"data_file.csv\", usecols = [state, 'status'])\n",
        "  df_confirmed = df[df.status=='Confirmed']\n",
        "  df_recovered = df[df.status=='Recovered']\n",
        "  df_deceased = df[df.status=='Deceased']\n",
        "\n",
        "  print(state_name)\n",
        "  print(\"Confirmed = \", df_confirmed[state].sum())\n",
        "  print(\"Recovered = \", df_recovered[state].sum())\n",
        "  print(\"Deceased = \", df_deceased[state].sum())  \n",
        "  print() \n",
        "\n",
        "Q1_2('dl', \"Delhi\")\n",
        "Q1_2('mh', \"Maharashtra\")\n",
        "Q1_2('wb', \"West Bengal\")\n",
        "Q1_2('tn', \"Tamil Nadu\")"
      ],
      "execution_count": null,
      "outputs": []
    },
    {
      "cell_type": "markdown",
      "metadata": {
        "id": "2PIpmnMTNyEA"
      },
      "source": [
        "# 1.3"
      ]
    },
    {
      "cell_type": "code",
      "metadata": {
        "id": "52C9mP8_N1Fu"
      },
      "source": [
        "df = pd.read_csv(\"data_file.csv\")\n",
        "all_states = df.columns.values.tolist()\n",
        "dataframe_list = []\n",
        "\n",
        "for state in all_states:\n",
        "  if (state=='date' or state=='dateymd' or state=='status'):\n",
        "    continue\n",
        "  df = pd.read_csv(\"data_file.csv\", usecols = [state,'status'])\n",
        "  df_confirmed = df[df.status=='Confirmed'][state].sum()*1.0\n",
        "  df_recovered = df[df.status=='Recovered'][state].sum()*1.0\n",
        "  recovery_rate = df_recovered/df_confirmed\n",
        "  append_list = [state, recovery_rate]\n",
        "  dataframe_list.append(append_list)\n",
        "\n",
        "df = pd.DataFrame(dataframe_list,columns = ['State','Recovery Rate'])\n",
        "high = df.sort_values('Recovery Rate', ascending=False)\n",
        "print(\"Highest recovery rate\")\n",
        "print(high.head(3))\n",
        "low = df.sort_values('Recovery Rate')\n",
        "print(\"Lowest recovery rate\")\n",
        "print(low.head(3))"
      ],
      "execution_count": null,
      "outputs": []
    },
    {
      "cell_type": "markdown",
      "metadata": {
        "id": "6ZYjdjUyN90j"
      },
      "source": [
        "# 1.4"
      ]
    },
    {
      "cell_type": "code",
      "metadata": {
        "id": "udx1BaMCOCni"
      },
      "source": [
        "df = pd.read_csv(\"data_file.csv\")\n",
        "all_states = df.columns.values.tolist()\n",
        "dataframe_list = []\n",
        "for state in all_states:\n",
        "  if(state=='date' or state=='dateymd' or state=='status'):\n",
        "    continue\n",
        "  df = pd.read_csv(\"data_file.csv\", usecols = [state, 'status'])\n",
        "  df_confirmed = df[df.status=='Confirmed']\n",
        "  df_recovered = df[df.status=='Recovered']\n",
        "  df_deceased = df[df.status=='Deceased']\n",
        "  append_list = [state, df_confirmed[state].sum(), df_recovered[state].sum(), df_deceased[state].sum()]\n",
        "  dataframe_list.append(append_list)\n",
        "\n",
        "df_Q1_4 = pd.DataFrame(dataframe_list,columns = ['State','Confirmed','Recovered','Deceased'])\n",
        "df_confirmed = df_Q1_4.sort_values('Confirmed', ascending = False)\n",
        "print(df_confirmed.head(3)[['State','Confirmed']])\n",
        "df_recovered = df_Q1_4.sort_values('Recovered', ascending = False)\n",
        "print(df_recovered.head(3)[['State','Recovered']])\n",
        "df_deceased = df_Q1_4.sort_values('Deceased', ascending = False)\n",
        "print(df_deceased.head(3)[['State','Deceased']])"
      ],
      "execution_count": null,
      "outputs": []
    },
    {
      "cell_type": "markdown",
      "metadata": {
        "id": "JRIQxpS3OT8O"
      },
      "source": [
        "# 1.5"
      ]
    },
    {
      "cell_type": "code",
      "metadata": {
        "id": "uXcADSWZOWON"
      },
      "source": [
        "df_confirmed = df_Q1_4.sort_values('Confirmed')\n",
        "print(df_confirmed.head(3)[['State','Confirmed']])\n",
        "df_recovered = df_Q1_4.sort_values('Recovered')\n",
        "print(df_recovered.head(3)[['State','Recovered']])\n",
        "df_deceased = df_Q1_4.sort_values('Deceased')\n",
        "print(df_deceased.head(3)[['State','Deceased']])"
      ],
      "execution_count": null,
      "outputs": []
    },
    {
      "cell_type": "markdown",
      "metadata": {
        "id": "0sPKJ-2LOmCN"
      },
      "source": [
        "# 1.6"
      ]
    },
    {
      "cell_type": "code",
      "metadata": {
        "id": "0brxwuDyOvBK"
      },
      "source": [
        "df = pd.read_csv(\"data_file.csv\")\n",
        "all_states = df.columns.values.tolist()\n",
        "\n",
        "for state in all_states:\n",
        "  dataframe_list = []\n",
        "  if(state=='date' or state=='dateymd' or state=='status'):\n",
        "    continue\n",
        "  df = pd.read_csv(\"data_file.csv\", usecols = [state, 'status','dateymd','date'])\n",
        "  list__ = df[state].tolist()\n",
        "\n",
        "  confirmed = 0\n",
        "  recovered = 0\n",
        "  deceased = 0\n",
        "  con_case = 0\n",
        "  rec_case = 0\n",
        "  dec_case = 0\n",
        "\n",
        "  date = \"2020-03-14\"\n",
        "  date = datetime.strptime(date, \"%Y-%m-%d\")\n",
        "  date = date+timedelta(days=1)\n",
        "\n",
        "  for i in range(1, len(list__)):\n",
        "    if i%3==0:\n",
        "      if i-3>=0:\n",
        "        curr = list__[i]\n",
        "        prev = list__[i-3]\n",
        "        confirmed = curr-prev\n",
        "        con_case = curr\n",
        "    elif i%3==1:\n",
        "      if i-3>=0:\n",
        "        curr = list__[i]\n",
        "        prev = list__[i-3]\n",
        "        recovered = curr-prev\n",
        "        rec_case = curr\n",
        "    else:\n",
        "      if i-3>=0:\n",
        "        curr = list__[i]\n",
        "        prev = list__[i-3]\n",
        "        deceased = curr-prev\n",
        "        dec_case = curr\n",
        "    if i%3==2:\n",
        "      append_list = [state, confirmed, recovered, deceased, str(date),con_case,rec_case,dec_case]\n",
        "      date = date+timedelta(days=1)\n",
        "      dataframe_list.append(append_list)\n",
        "  df = pd.DataFrame(dataframe_list,columns = ['State','Confirmed','Recovered','Deceased','Date','ConfirmedCases','RecoveredCases','DeceasedCases'])\n",
        "  print(state)\n",
        "  df_confirmed = df.sort_values('Confirmed', ascending = False)\n",
        "  print(\"Confirmed\", df_confirmed.iloc[0]['Date'], df_confirmed.iloc[0]['ConfirmedCases'])\n",
        "  df_recovered = df.sort_values('Recovered', ascending = False)\n",
        "  print(\"Recovered\", df_confirmed.iloc[0]['Date'], df_confirmed.iloc[0]['RecoveredCases'])\n",
        "  df_deceased = df.sort_values('Deceased', ascending = False)\n",
        "  print(\"Deceased\", df_confirmed.iloc[0]['Date'], df_confirmed.iloc[0]['DeceasedCases'])\n",
        "  print()"
      ],
      "execution_count": null,
      "outputs": []
    },
    {
      "cell_type": "markdown",
      "metadata": {
        "id": "EEC9fRFEO1py"
      },
      "source": [
        "# 1.7"
      ]
    },
    {
      "cell_type": "code",
      "metadata": {
        "id": "pgew0GWyO5eq"
      },
      "source": [
        "df = pd.read_csv(\"data_file.csv\")\n",
        "all_states = df.columns.values.tolist()\n",
        "for state in all_states:\n",
        "  if(state=='date' or state=='dateymd' or state=='status'):\n",
        "    continue\n",
        "  df = pd.read_csv(\"data_file.csv\", usecols = [state, 'status','date'])\n",
        "  df_confirmed = df[(df.status=='Confirmed') & (df.date!='16-Aug-21')]\n",
        "  df_confirmed = df_confirmed[state].sum()\n",
        "  # print(df_confirmed)\n",
        "  df_recovered = df[(df.status=='Recovered') & (df.date!='16-Aug-21')]\n",
        "  df_recovered = df_recovered[state].sum()\n",
        "  df_deceased = df[(df.status=='Deceased') & (df.date!='16-Aug-21')]\n",
        "  df_deceased = df_deceased[state].sum()\n",
        "  active = df_confirmed-(df_recovered + df_deceased)\n",
        "  # active = active-df_deceased\n",
        "  print(state, active)"
      ],
      "execution_count": null,
      "outputs": []
    },
    {
      "cell_type": "markdown",
      "metadata": {
        "id": "wLWkgxV3jFbV"
      },
      "source": [
        "# 2.1"
      ]
    },
    {
      "cell_type": "code",
      "metadata": {
        "id": "Sv4CXHmejKSH"
      },
      "source": [
        "df = pd.read_csv(\"data_file.csv\")\n",
        "dataframe_list = []\n",
        "dataframe_list_dl = []\n",
        "dataframe_list_gj = []\n",
        "dataframe_list_tn = []\n",
        "\n",
        "keys = list(df.keys())\n",
        "confirmed = 0\n",
        "confirmed_dl = 0\n",
        "confirmed_gj = 0\n",
        "confirmed_tn = 0\n",
        "\n",
        "recovered = 0\n",
        "recovered_dl = 0\n",
        "recovered_gj = 0\n",
        "recovered_tn = 0\n",
        "\n",
        "deceased = 0\n",
        "deceased_dl = 0\n",
        "deceased_gj = 0\n",
        "deceased_tn = 0\n",
        "\n",
        "for index, row in df.iterrows():\n",
        "  if row['status']=='Confirmed':\n",
        "    for key in keys:\n",
        "      if key=='status' or key=='date' or key=='dateymd':\n",
        "        continue\n",
        "      confirmed = confirmed+row[key]\n",
        "    confirmed_dl = confirmed_dl+row['dl']\n",
        "    confirmed_gj = confirmed_gj+row['gj']\n",
        "    confirmed_tn = confirmed_tn+row['tn']\n",
        "  elif row['status']=='Recovered':\n",
        "    for key in keys:\n",
        "      if key=='status' or key=='date' or key=='dateymd':\n",
        "        continue\n",
        "      recovered = recovered+row[key]\n",
        "    recovered_dl = recovered_dl+row['dl']\n",
        "    recovered_gj = recovered_gj+row['gj']\n",
        "    recovered_tn = recovered_tn+row['tn']\n",
        "  else:\n",
        "    for key in keys:\n",
        "      if key=='status' or key=='date' or key=='dateymd':\n",
        "        continue\n",
        "      deceased = deceased+row[key]\n",
        "    deceased_dl = deceased_dl+row['dl']\n",
        "    deceased_gj = deceased_gj+row['gj']\n",
        "    deceased_tn = deceased_tn+row['tn']\n",
        "    append_list = [row['dateymd'],confirmed,recovered,deceased]\n",
        "    dataframe_list.append(append_list)\n",
        "    append_list_dl = [row['dateymd'],confirmed_dl,recovered_dl,deceased_dl]\n",
        "    dataframe_list_dl.append(append_list_dl)\n",
        "    append_list_tn = [row['dateymd'],confirmed_tn,recovered_tn,deceased_tn]\n",
        "    dataframe_list_tn.append(append_list_tn)\n",
        "    append_list_gj = [row['dateymd'],confirmed_gj,recovered_gj,deceased_gj]\n",
        "    dataframe_list_gj.append(append_list_gj)\n",
        "    confirmed_dl = 0\n",
        "    recovered_dl = 0\n",
        "    deceased_dl = 0\n",
        "    confirmed_tn = 0\n",
        "    recovered_tn = 0\n",
        "    deceased_tn = 0\n",
        "    confirmed_gj = 0\n",
        "    recovered_gj = 0\n",
        "    deceased_gj = 0\n",
        "    confirmed = 0\n",
        "    recovered = 0\n",
        "    deceased = 0\n",
        "\n",
        "df = pd.DataFrame(dataframe_list,columns = ['Date','Confirmed','Recovered','Deceased'])\n",
        "# print(df)\n",
        "for_2_3 = df\n",
        "df = pd.DataFrame({\n",
        "    'Confirmed': df['Confirmed'].tolist(),\n",
        "    'Recovered': df['Recovered'].tolist(),\n",
        "    'Deceased': df['Deceased'].tolist(),\n",
        "}, index=pd.date_range(start='2020/03/14', end='2021/08/16',freq='D'))\n",
        "print(\"Not cumulative\")\n",
        "ax = df.plot.area(stacked=False)\n",
        "df = df.cumsum()\n",
        "print(\"Cumulative\")\n",
        "ax = df.plot.area(stacked=False)"
      ],
      "execution_count": null,
      "outputs": []
    },
    {
      "cell_type": "markdown",
      "metadata": {
        "id": "mnvez2oorkz2"
      },
      "source": [
        "# 2.2"
      ]
    },
    {
      "cell_type": "code",
      "metadata": {
        "id": "hmh9nPHGtVtI"
      },
      "source": [
        "df = pd.DataFrame(dataframe_list_dl,columns = ['Date','Confirmed','Recovered','Deceased'])\n",
        "df = pd.DataFrame({\n",
        "    'Confirmed': df['Confirmed'].tolist(),\n",
        "    'Recovered': df['Recovered'].tolist(),\n",
        "    'Deceased': df['Deceased'].tolist(),\n",
        "}, index=pd.date_range(start='2020/03/14', end='2021/08/16',freq='D'))\n",
        "print(\"Not cumulative\")\n",
        "ax = df.plot.area(stacked=False)\n",
        "df = df.cumsum()\n",
        "print(\"Cumulative\")\n",
        "ax = df.plot.area(stacked=False)"
      ],
      "execution_count": null,
      "outputs": []
    },
    {
      "cell_type": "markdown",
      "metadata": {
        "id": "2diW33ZAuFn4"
      },
      "source": [
        "# 2.3"
      ]
    },
    {
      "cell_type": "code",
      "metadata": {
        "id": "jKuCjhPxuJv-"
      },
      "source": [
        "df = for_2_3\n",
        "def findActive(df):\n",
        "  active_list = []\n",
        "  for index, row in df.iterrows():\n",
        "    active = row['Confirmed']-row['Recovered']-row['Deceased']\n",
        "    active_list.append(active)\n",
        "  df['Active'] = active_list\n",
        "\n",
        "findActive(df)\n",
        "df = pd.DataFrame({\n",
        "      'Active': df['Active'].tolist(),\n",
        "  }, index=pd.date_range(start='2020/03/14', end='2021/08/16',freq='D'))\n",
        "print(\"Not cumulative\")\n",
        "ax = df.plot.area(stacked=False)\n",
        "df = df.cumsum()\n",
        "print(\"Cumulative\")\n",
        "ax = df.plot.area(stacked=False)"
      ],
      "execution_count": null,
      "outputs": []
    },
    {
      "cell_type": "markdown",
      "metadata": {
        "id": "Lj88nbRvvt2Z"
      },
      "source": [
        "# 2.4"
      ]
    },
    {
      "cell_type": "code",
      "metadata": {
        "colab": {
          "base_uri": "https://localhost:8080/",
          "height": 265
        },
        "id": "FsQXYAdRvvsh",
        "outputId": "759539c9-8462-40f4-e41f-e2ba13927224"
      },
      "source": [
        "df_dl = pd.DataFrame(dataframe_list_dl,columns = ['Date','Confirmed','Recovered','Deceased'])\n",
        "df_tn = pd.DataFrame(dataframe_list_tn,columns = ['Date','Confirmed','Recovered','Deceased'])\n",
        "df_gj = pd.DataFrame(dataframe_list_gj,columns = ['Date','Confirmed','Recovered','Deceased'])\n",
        "findActive(df_dl)\n",
        "findActive(df_tn)\n",
        "findActive(df_gj)\n",
        "active_dl = df_dl['Active'].tolist()\n",
        "active_gj = df_gj['Active'].tolist()\n",
        "active_tn = df_tn['Active'].tolist()\n",
        "lifespan = [2, 8, 70, 1.5, 25, 12, 28]\n",
        "# index = ['snail', 'pig', 'elephant',\n",
        "#          'rabbit', 'giraffe', 'coyote', 'horse']\n",
        "df = pd.DataFrame({'Delhi': active_dl,\n",
        "                   'Gujarat': active_gj,\n",
        "                   'Tamil Nadu': active_tn}, index=pd.date_range(start='2020/03/14', end='2021/08/16',freq='D'))\n",
        "ax = df.plot.bar(rot=0)"
      ],
      "execution_count": 38,
      "outputs": [
        {
          "output_type": "display_data",
          "data": {
            "image/png": "[encoded data removed]",
            "text/plain": [
              "<Figure size 432x288 with 1 Axes>"
            ]
          },
          "metadata": {
            "needs_background": "light"
          }
        }
      ]
    }
  ]
}